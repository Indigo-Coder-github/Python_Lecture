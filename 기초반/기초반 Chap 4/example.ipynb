{
 "cells": [
  {
   "cell_type": "markdown",
   "metadata": {},
   "source": [
    "# 기초반 4차시 예제 코드"
   ]
  },
  {
   "cell_type": "markdown",
   "metadata": {},
   "source": [
    "## 1. Function(함수)"
   ]
  },
  {
   "cell_type": "markdown",
   "metadata": {},
   "source": [
    "### return이 있는 함수"
   ]
  },
  {
   "cell_type": "code",
   "execution_count": 10,
   "metadata": {},
   "outputs": [],
   "source": [
    "example_list = [\"경제협력개발기구는 올해 세계 성장 속도가 둔화될 것으로 평가했습니다.\",\n",
    "                \"OECD가 내다본 올해 세계 경제성장률은 2.9 %로, 전년 대비 0.2 %포인트 하락했습니다.\",\n",
    "                \"내년에는 약간 오른 3 %의 성장률을 기대했습니다.\",\n",
    "                \"미국은 꾸준한 소비와 실질임금 상승의 영향으로 경제 회복 가능성이 높았습니다.\",\n",
    "                \"그러나 유럽은 실질소득이 회복되지 않고, 중국 역시 위축된 소비심리와 높은 부채로 성장 속도가 늦춰질 것으로 분석했습니다.\",\n",
    "                \"특히 올해 우리나라 경제성장률은 이 속도에도 못 미치는 2.2% 수준에 그칠 것으로 OECD는 내다봤습니다.\",\n",
    "                \"지난해 11월 전망된 2.3 %에서 더 낮춘 겁니다.\",\n",
    "                \"여기에 내년은 전망을 더 낮춰 잡았습니다.\",\n",
    "                \"최근 중동의 정세 불안이 에너지 가격 상승으로 이어지고 고금리가 예상보다 길어지는 것도 위험 요인으로 꼽혔습니다.\",\n",
    "                \"OECD는 당분간 통화정책을 제약적으로 유지하고, 재정 여력을 확보하는 게 필요하다고 진단했습니다.\",\n",
    "                \"MBC뉴스 김세영입니다.\"]"
   ]
  },
  {
   "cell_type": "code",
   "execution_count": 11,
   "metadata": {},
   "outputs": [
    {
     "name": "stdout",
     "output_type": "stream",
     "text": [
      "[]\n",
      "[2.9, 0.2]\n",
      "[3.0]\n",
      "[]\n",
      "[]\n",
      "[]\n",
      "[2.3]\n",
      "[]\n",
      "[]\n",
      "[]\n",
      "[]\n"
     ]
    }
   ],
   "source": [
    "def extract_float_in_string(string):\n",
    "    float_list = list()\n",
    "    for i in string.split(\" \"):\n",
    "        try: float_list.append(float(i))\n",
    "        except ValueError: pass\n",
    "    return float_list\n",
    "\n",
    "for i in example_list:\n",
    "    print(extract_float_in_string(i))"
   ]
  },
  {
   "cell_type": "markdown",
   "metadata": {},
   "source": [
    "### return이 없는 함수"
   ]
  },
  {
   "cell_type": "code",
   "execution_count": 13,
   "metadata": {},
   "outputs": [
    {
     "name": "stdout",
     "output_type": "stream",
     "text": [
      "[]\n",
      "[2.9, 0.2]\n",
      "[3.0]\n",
      "[]\n",
      "[]\n",
      "[]\n",
      "[2.3]\n",
      "[]\n",
      "[]\n",
      "[]\n",
      "[]\n"
     ]
    }
   ],
   "source": [
    "def extract_float_in_string(string):\n",
    "    float_list = list()\n",
    "    for i in string.split(\" \"):\n",
    "        try: float_list.append(float(i))\n",
    "        except ValueError: pass\n",
    "    print(float_list)\n",
    "\n",
    "for i in example_list:\n",
    "    extract_float_in_string(i)"
   ]
  },
  {
   "cell_type": "markdown",
   "metadata": {},
   "source": [
    "### 함수의 초깃값 선언"
   ]
  },
  {
   "cell_type": "code",
   "execution_count": 14,
   "metadata": {},
   "outputs": [
    {
     "name": "stdout",
     "output_type": "stream",
     "text": [
      "[2024.0]\n"
     ]
    }
   ],
   "source": [
    "def extract_float_in_string(string=\"Happy New 2024 Year.\"):\n",
    "    float_list = list()\n",
    "    for i in string.split(\" \"):\n",
    "        try: float_list.append(float(i))\n",
    "        except ValueError: pass\n",
    "    return float_list\n",
    "\n",
    "print(extract_float_in_string())"
   ]
  },
  {
   "cell_type": "markdown",
   "metadata": {},
   "source": [
    "### 복수값 반환"
   ]
  },
  {
   "cell_type": "code",
   "execution_count": 24,
   "metadata": {},
   "outputs": [
    {
     "name": "stdout",
     "output_type": "stream",
     "text": [
      "[] [2.9, 0.2]\n"
     ]
    }
   ],
   "source": [
    "def extract_float_in_string(string):\n",
    "    return_list = list()\n",
    "    for i in string:\n",
    "        float_list = list()\n",
    "        for j in i.split(\" \"):\n",
    "            try: float_list.append(float(j))\n",
    "            except ValueError: pass\n",
    "        return_list.append(float_list)\n",
    "    return return_list\n",
    "\n",
    "first, second, third, forth, fifth, sixth, seventh, eighth, nineth, tenth, eleventh = extract_float_in_string(example_list)\n",
    "print(first, second)"
   ]
  },
  {
   "cell_type": "markdown",
   "metadata": {},
   "source": [
    "## 2. Objected Oriented Programming (OOP, 객체지향 프로그래밍)"
   ]
  },
  {
   "cell_type": "markdown",
   "metadata": {},
   "source": [
    "### class 정의"
   ]
  },
  {
   "cell_type": "code",
   "execution_count": 13,
   "metadata": {},
   "outputs": [],
   "source": [
    "class Humanoid:\n",
    "    def __init__(self, weight):\n",
    "        self.weight = weight\n",
    "        self.battery = 100\n",
    "    \n",
    "    def walk(self):\n",
    "        print(\"I'm walking\")\n",
    "        self.battery -= self.weight * 0.1\n",
    "    \n",
    "    def recharge(self):\n",
    "        self.battery = 100\n",
    "        \n",
    "    def __del__(self):\n",
    "        print(\"I'm dead\")"
   ]
  },
  {
   "cell_type": "markdown",
   "metadata": {},
   "source": [
    "### class 사용"
   ]
  },
  {
   "cell_type": "code",
   "execution_count": 14,
   "metadata": {},
   "outputs": [
    {
     "name": "stdout",
     "output_type": "stream",
     "text": [
      "I'm walking\n",
      "95.0\n",
      "100\n",
      "I'm dead\n"
     ]
    }
   ],
   "source": [
    "Mark_7 = Humanoid(50)\n",
    "Mark_7.walk()\n",
    "print(Mark_7.battery)\n",
    "Mark_7.recharge()\n",
    "print(Mark_7.battery)\n",
    "del Mark_7"
   ]
  },
  {
   "cell_type": "markdown",
   "metadata": {},
   "source": [
    "## 3. 객체지향 4대 특성"
   ]
  },
  {
   "cell_type": "markdown",
   "metadata": {},
   "source": [
    "### 3-2. Encapsulation(캡슐화)"
   ]
  },
  {
   "cell_type": "markdown",
   "metadata": {},
   "source": [
    "#### 3-2-1. Visibility(가시성), 접근 제한자"
   ]
  },
  {
   "cell_type": "code",
   "execution_count": 21,
   "metadata": {},
   "outputs": [],
   "source": [
    "class Humanoid:\n",
    "    def __init__(self, weight):\n",
    "        self.__weight = weight\n",
    "        self._battery = 100\n",
    "    \n",
    "    def walk(self):\n",
    "        print(\"I'm walking\")\n",
    "        self._battery -= self.__weight * 0.1\n",
    "    \n",
    "    def recharge(self):\n",
    "        self._battery = 100\n",
    "        \n",
    "    def __del__(self):\n",
    "        print(\"I'm dead\")"
   ]
  },
  {
   "cell_type": "code",
   "execution_count": 24,
   "metadata": {},
   "outputs": [
    {
     "name": "stdout",
     "output_type": "stream",
     "text": [
      "I'm walking\n",
      "0\n",
      "100\n"
     ]
    }
   ],
   "source": [
    "Mark_2 = Humanoid(100)\n",
    "Mark_2.walk()\n",
    "Mark_2._battery = 0\n",
    "print(Mark_2._battery)\n",
    "#print(Mark_2.__weight)\n",
    "print(Mark_2._Humanoid__weight)"
   ]
  },
  {
   "cell_type": "markdown",
   "metadata": {},
   "source": [
    "### 3-3. Inheritance(상속)"
   ]
  },
  {
   "cell_type": "markdown",
   "metadata": {},
   "source": [
    "### 3-4. Polymorphism(다형성)"
   ]
  },
  {
   "cell_type": "code",
   "execution_count": 25,
   "metadata": {},
   "outputs": [],
   "source": [
    "class Robot:\n",
    "    def __init__(self, weight):\n",
    "        self.weight = weight\n",
    "        self.battery = 100\n",
    "\n",
    "    def recharge(self):\n",
    "        self.battery = 100\n",
    "        \n",
    "    def __del__(self):\n",
    "        print(\"I'm dead\")"
   ]
  },
  {
   "cell_type": "code",
   "execution_count": 26,
   "metadata": {},
   "outputs": [],
   "source": [
    "class Humanoid(Robot):\n",
    "    def __init__(self, name, weight):\n",
    "        super().__init__(weight)\n",
    "        self.name = name\n",
    "    \n",
    "    def walk(self):\n",
    "        print(\"I'm walking\")\n",
    "        self.battery -= self.weight * 0.1\n",
    "    \n",
    "    def __del__(self):\n",
    "        super().__del__()\n",
    "\n",
    "class FactoryRobot(Robot):\n",
    "    def __init__(self, weight):\n",
    "        super().__init__(weight)\n",
    "        self.battery = 200\n",
    "        \n",
    "    def recharge(self):\n",
    "        self.battery = 200\n",
    "        \n",
    "    def __del__(self):\n",
    "        super().__del__()"
   ]
  },
  {
   "cell_type": "code",
   "execution_count": 27,
   "metadata": {},
   "outputs": [
    {
     "name": "stdout",
     "output_type": "stream",
     "text": [
      "I'm walking\n",
      "95.0\n",
      "200\n"
     ]
    }
   ],
   "source": [
    "Mark_42 = Humanoid(\"Mark 42\", 50)\n",
    "frying_machine = FactoryRobot(100)\n",
    "\n",
    "Mark_42.walk()\n",
    "frying_machine.recharge()\n",
    "print(Mark_42.battery)\n",
    "print(frying_machine.battery)"
   ]
  }
 ],
 "metadata": {
  "kernelspec": {
   "display_name": "Python 3",
   "language": "python",
   "name": "python3"
  },
  "language_info": {
   "codemirror_mode": {
    "name": "ipython",
    "version": 3
   },
   "file_extension": ".py",
   "mimetype": "text/x-python",
   "name": "python",
   "nbconvert_exporter": "python",
   "pygments_lexer": "ipython3",
   "version": "3.10.0"
  }
 },
 "nbformat": 4,
 "nbformat_minor": 2
}
