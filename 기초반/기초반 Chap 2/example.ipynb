{
 "cells": [
  {
   "cell_type": "markdown",
   "metadata": {},
   "source": [
    "# 기초반 2차시 예제 코드"
   ]
  },
  {
   "cell_type": "markdown",
   "metadata": {},
   "source": [
    "## 1. Numeric Type"
   ]
  },
  {
   "cell_type": "markdown",
   "metadata": {},
   "source": [
    "### 1-1. int"
   ]
  },
  {
   "cell_type": "code",
   "execution_count": 89,
   "metadata": {},
   "outputs": [
    {
     "name": "stdout",
     "output_type": "stream",
     "text": [
      "10\n",
      "10\n"
     ]
    }
   ],
   "source": [
    "print(int(10.0))\n",
    "print(int(\"1010\", base=2))\n"
   ]
  },
  {
   "cell_type": "markdown",
   "metadata": {},
   "source": [
    "### 1-2. float"
   ]
  },
  {
   "cell_type": "code",
   "execution_count": 90,
   "metadata": {},
   "outputs": [
    {
     "name": "stdout",
     "output_type": "stream",
     "text": [
      "10.0\n"
     ]
    }
   ],
   "source": [
    "print(float(10))"
   ]
  },
  {
   "cell_type": "markdown",
   "metadata": {},
   "source": [
    "### 1-3. complex"
   ]
  },
  {
   "cell_type": "markdown",
   "metadata": {},
   "source": [
    "string을 complex형으로 바꿀 때는 `+` 앞 뒤로 띄어쓰기를 하면 인식하지 않는다."
   ]
  },
  {
   "cell_type": "code",
   "execution_count": 91,
   "metadata": {},
   "outputs": [
    {
     "name": "stdout",
     "output_type": "stream",
     "text": [
      "(10+10j)\n",
      "(10+10j)\n",
      "10.0 10.0\n"
     ]
    }
   ],
   "source": [
    "print(complex(10, 10))\n",
    "print(complex(\"10+10j\"))\n",
    "print(complex(\"10+10j\").real, complex(\"10+10j\").imag)\n"
   ]
  },
  {
   "cell_type": "markdown",
   "metadata": {},
   "source": [
    "### 1-4. 연산자"
   ]
  },
  {
   "cell_type": "code",
   "execution_count": 92,
   "metadata": {},
   "outputs": [
    {
     "name": "stdout",
     "output_type": "stream",
     "text": [
      "20\n",
      "0\n",
      "100\n",
      "1.0\n",
      "1\n",
      "0\n",
      "10000000000\n",
      "-10\n",
      "10\n",
      "10\n",
      "(1, 0)\n",
      "10000000000\n",
      "0\n"
     ]
    }
   ],
   "source": [
    "print(10+10)\n",
    "print(10-10)\n",
    "print(10*10)\n",
    "print(10/10)\n",
    "print(10//10)\n",
    "print(10%10)\n",
    "print(10**10)\n",
    "print(-10)\n",
    "print(+10)\n",
    "print(abs(-10))\n",
    "print(divmod(10, 10))\n",
    "print(pow(10, 10))\n",
    "print(pow(10, 10, 10))"
   ]
  },
  {
   "cell_type": "markdown",
   "metadata": {},
   "source": [
    "#### 1-4-1. int, float 연산자"
   ]
  },
  {
   "cell_type": "code",
   "execution_count": 93,
   "metadata": {},
   "outputs": [
    {
     "name": "stdout",
     "output_type": "stream",
     "text": [
      "10\n",
      "10.10101\n",
      "10\n",
      "11\n"
     ]
    }
   ],
   "source": [
    "import math\n",
    "\n",
    "print(math.trunc(10.1010101))\n",
    "print(round(10.1010101, 5))\n",
    "print(math.floor(10.1010101))\n",
    "print(math.ceil(10.1010101))"
   ]
  },
  {
   "cell_type": "markdown",
   "metadata": {},
   "source": [
    "#### 1-4-2. 비트 연산자"
   ]
  },
  {
   "cell_type": "code",
   "execution_count": 94,
   "metadata": {},
   "outputs": [
    {
     "name": "stdout",
     "output_type": "stream",
     "text": [
      "1018\n",
      "992\n",
      "26\n",
      "-1011\n",
      "4040\n",
      "252\n"
     ]
    }
   ],
   "source": [
    "# 10진수인 1010은 2진수로 1111110010, 1000은 2진수로 1111101000\n",
    "print(1010|1000)\n",
    "# 1111110010 | 1111101000 = 1111111010 = 1018\n",
    "print(1010&1000)\n",
    "# 1111110010 & 1111101000 = 1111100000 = 992\n",
    "print(1010^1000)\n",
    "# 1111110010 ^ 1111101000 = 0000011010 = 26\n",
    "print(~1010)\n",
    "# ~1111110010  = -1011\n",
    "print(1010<<2)\n",
    "# 1111110010 << 2 = 111111001000 = 4040\n",
    "print(1010>>2)\n",
    "# 1111110010 >> 2 = 11111100 = 252"
   ]
  },
  {
   "cell_type": "markdown",
   "metadata": {},
   "source": [
    "## 2. Boolean Type"
   ]
  },
  {
   "cell_type": "markdown",
   "metadata": {},
   "source": [
    "### False를 반환하는 Type"
   ]
  },
  {
   "cell_type": "code",
   "execution_count": 95,
   "metadata": {},
   "outputs": [
    {
     "name": "stdout",
     "output_type": "stream",
     "text": [
      "False False False False False False False False False False False\n"
     ]
    }
   ],
   "source": [
    "print(bool(None), bool(False), bool(0), bool(0.0), bool(0j), bool(\"\"), bool(()), bool([]), bool({}), bool(set()), bool(range(0)))"
   ]
  },
  {
   "cell_type": "markdown",
   "metadata": {},
   "source": [
    "### Boolean Type의 int Type 화"
   ]
  },
  {
   "cell_type": "code",
   "execution_count": 96,
   "metadata": {},
   "outputs": [
    {
     "name": "stdout",
     "output_type": "stream",
     "text": [
      "2\n",
      "2\n"
     ]
    }
   ],
   "source": [
    "print(True + True)\n",
    "print(int(True) + int(True))"
   ]
  },
  {
   "cell_type": "markdown",
   "metadata": {},
   "source": [
    "### 2-1. Boolean 연산자"
   ]
  },
  {
   "cell_type": "markdown",
   "metadata": {},
   "source": [
    "#### Boolean 값끼리의 연산"
   ]
  },
  {
   "cell_type": "code",
   "execution_count": 97,
   "metadata": {},
   "outputs": [
    {
     "name": "stdout",
     "output_type": "stream",
     "text": [
      "True\n",
      "False\n",
      "False\n"
     ]
    }
   ],
   "source": [
    "print(True or False)\n",
    "print(True and False)\n",
    "print(not True)"
   ]
  },
  {
   "cell_type": "markdown",
   "metadata": {},
   "source": [
    "#### 평가식끼리의 연산"
   ]
  },
  {
   "cell_type": "code",
   "execution_count": 98,
   "metadata": {},
   "outputs": [
    {
     "name": "stdout",
     "output_type": "stream",
     "text": [
      "True False\n"
     ]
    }
   ],
   "source": [
    "x = 10\n",
    "var_1 = True if x % 10 == 0 else False\n",
    "var_2 = True if x % 3 == 0 else False\n",
    "print(var_1, var_2)"
   ]
  },
  {
   "cell_type": "code",
   "execution_count": 99,
   "metadata": {},
   "outputs": [
    {
     "name": "stdout",
     "output_type": "stream",
     "text": [
      "True False False\n"
     ]
    }
   ],
   "source": [
    "print(var_1 or var_2, var_1 and var_2, not var_1)"
   ]
  },
  {
   "cell_type": "markdown",
   "metadata": {},
   "source": [
    "### 2-2. 비교 연산자"
   ]
  },
  {
   "cell_type": "code",
   "execution_count": 100,
   "metadata": {},
   "outputs": [
    {
     "name": "stdout",
     "output_type": "stream",
     "text": [
      "False True False True True False\n"
     ]
    }
   ],
   "source": [
    "print(10 < 10, 10 <= 10, 10 > 10, 10 >= 10, 10 == 10, 10 != 10)"
   ]
  },
  {
   "cell_type": "markdown",
   "metadata": {},
   "source": [
    "## 4. list"
   ]
  },
  {
   "cell_type": "markdown",
   "metadata": {},
   "source": [
    "### list 선언"
   ]
  },
  {
   "cell_type": "code",
   "execution_count": 101,
   "metadata": {},
   "outputs": [],
   "source": [
    "using_bracket_pair = []\n",
    "using_bracket_comma = [\"a\", \"b\", \"c\"]\n",
    "using_list_comprehension = [x for x in [1,2,3]]"
   ]
  },
  {
   "cell_type": "markdown",
   "metadata": {},
   "source": [
    "### 형 변환을 통한 list 선언"
   ]
  },
  {
   "cell_type": "code",
   "execution_count": 102,
   "metadata": {},
   "outputs": [
    {
     "name": "stdout",
     "output_type": "stream",
     "text": [
      "['a', 'b', 'c']\n"
     ]
    }
   ],
   "source": [
    "str_to_list = list(\"abc\") #[\"a\", \"b\", \"c\"]\n",
    "tuple_to_list = list((1, 2, 3)) #[1, 2, 3]\n",
    "blank_list = list() #[]\n",
    "\n",
    "print(str_to_list)"
   ]
  },
  {
   "cell_type": "markdown",
   "metadata": {},
   "source": [
    "### 3-2. Sequence Type 함수"
   ]
  },
  {
   "cell_type": "code",
   "execution_count": 103,
   "metadata": {},
   "outputs": [],
   "source": [
    "test_list = [0, 1, 2, 3, 4, 5, 6, 7, 8, 9]"
   ]
  },
  {
   "cell_type": "code",
   "execution_count": 104,
   "metadata": {},
   "outputs": [
    {
     "name": "stdout",
     "output_type": "stream",
     "text": [
      "Does 4 exit in test_list? True\n",
      "Deos 4 not exit in test_list? False\n",
      "[0, 1, 2, 3, 4, 5, 6, 7, 8, 9, 0, 1, 2, 3, 4, 5, 6, 7, 8, 9]\n",
      "[0, 1, 2, 3, 4, 5, 6, 7, 8, 9, 0, 1, 2, 3, 4, 5, 6, 7, 8, 9]\n",
      "The length of test_list is  10\n",
      "The min value in test_list is  0\n",
      "The max value in test_list is  9\n",
      "The index of 3 in test_list is  3\n",
      "In range of 1 to 5, the index of 3 in range of test_list is 3\n",
      "The index of 3 in range of test_list[1:5] is 2\n",
      "The count of 3 in test_list is  1\n"
     ]
    }
   ],
   "source": [
    "print(\"Does 4 exit in test_list?\", 4 in test_list)\n",
    "print(\"Deos 4 not exit in test_list?\", 4 not in test_list)\n",
    "print(test_list + test_list)\n",
    "print(test_list * 2)\n",
    "print(\"The length of test_list is \", len(test_list))\n",
    "print(\"The min value in test_list is \", min(test_list))\n",
    "print(\"The max value in test_list is \", max(test_list))\n",
    "print(\"The index of 3 in test_list is \", test_list.index(3))\n",
    "print(\"In range of 1 to 5, the index of 3 in range of test_list is\", test_list.index(3, 1, 5))\n",
    "print(\"The index of 3 in range of test_list[1:5] is\", test_list[1:5].index(3))\n",
    "print(\"The count of 3 in test_list is \", test_list.count(3))"
   ]
  },
  {
   "cell_type": "markdown",
   "metadata": {},
   "source": [
    "### 3-3. slicing & indexing"
   ]
  },
  {
   "cell_type": "code",
   "execution_count": 105,
   "metadata": {},
   "outputs": [
    {
     "name": "stdout",
     "output_type": "stream",
     "text": [
      "test_list[4] =  4\n",
      "test_list[-4] =  6\n",
      "test_list[:4] =  [0, 1, 2, 3]\n",
      "test_list[:-4] =  [0, 1, 2, 3, 4, 5]\n",
      "test_list[4:] =  [4, 5, 6, 7, 8, 9]\n",
      "test_list[-4:] =  [6, 7, 8, 9]\n",
      "test_list[2:5] =  [2, 3, 4]\n",
      "test_list[::2] =  [0, 2, 4, 6, 8]\n",
      "test_list[1::2] =  [1, 3, 5, 7, 9]\n",
      "test_list[::-1] =  [9, 8, 7, 6, 5, 4, 3, 2, 1, 0]\n"
     ]
    }
   ],
   "source": [
    "print(\"test_list[4] = \", test_list[4])\n",
    "print(\"test_list[-4] = \", test_list[-4])\n",
    "print(\"test_list[:4] = \", test_list[:4])\n",
    "print(\"test_list[:-4] = \", test_list[:-4])\n",
    "print(\"test_list[4:] = \", test_list[4:])\n",
    "print(\"test_list[-4:] = \", test_list[-4:])\n",
    "print(\"test_list[2:5] = \", test_list[2:5])\n",
    "print(\"test_list[::2] = \", test_list[::2])\n",
    "print(\"test_list[1::2] = \", test_list[1::2])\n",
    "print(\"test_list[::-1] = \", test_list[::-1])"
   ]
  },
  {
   "cell_type": "markdown",
   "metadata": {},
   "source": [
    "### 4-1. list 함수"
   ]
  },
  {
   "cell_type": "code",
   "execution_count": 106,
   "metadata": {},
   "outputs": [
    {
     "name": "stdout",
     "output_type": "stream",
     "text": [
      "[0, 1, 2, 'three', 4, 5, 6, 7, 8, 9]\n",
      "[0, 1, 2, 'three', 'four', 'five', 6, 7, 8, 9]\n",
      "[2, 'three', 'four', 'five', 6, 7, 8, 9]\n",
      "[2, 'three', 'four', 'five', 6, 7, 8, 9, 10]\n",
      "[2, 'three', 'four', 'five', 6, 7, 8, 9, 10, 11, 12]\n",
      "[2, 'three', 'four', 'five', 6, 7, 8, 9, 10, 11, 12, 2, 'three', 'four', 'five', 6, 7, 8, 9, 10, 11, 12]\n",
      "['one', 2, 'three', 'four', 'five', 6, 7, 8, 9, 10, 11, 12, 2, 'three', 'four', 'five', 6, 7, 8, 9, 10, 11, 12]\n",
      "['one', 2, 'three', 'four', 'five', 6, 7, 8, 9, 10, 11, 12, 2, 'three', 'four', 'five', 6, 7, 8, 9, 10, 11]\n",
      "['one', 2, 'three', 'four', 'five', 6, 7, 8, 9, 10, 11, 12, 2, 'three', 'four', 'five', 6, 7, 8, 10, 11]\n",
      "['one', 2, 'four', 'five', 6, 7, 8, 9, 10, 11, 12, 2, 'three', 'four', 'five', 6, 7, 8, 10, 11]\n",
      "[11, 10, 8, 7, 6, 'five', 'four', 'three', 2, 12, 11, 10, 9, 8, 7, 6, 'five', 'four', 2, 'one']\n"
     ]
    }
   ],
   "source": [
    "test_list[3] = \"three\"\n",
    "print(test_list)\n",
    "test_list[4:6] = [\"four\", \"five\"]\n",
    "print(test_list)\n",
    "del test_list[:2]\n",
    "print(test_list)\n",
    "test_list.append(10)\n",
    "print(test_list)\n",
    "test_list.extend([11, 12])\n",
    "print(test_list)\n",
    "test_list *= 2\n",
    "print(test_list)\n",
    "test_list.insert(0, \"one\")\n",
    "print(test_list)\n",
    "test_list.pop()\n",
    "print(test_list)\n",
    "test_list.pop(-3)\n",
    "print(test_list)\n",
    "test_list.remove(\"three\")\n",
    "print(test_list)\n",
    "test_list.reverse()\n",
    "print(test_list)"
   ]
  },
  {
   "cell_type": "markdown",
   "metadata": {},
   "source": [
    "### 4-2. list comprehension"
   ]
  },
  {
   "cell_type": "markdown",
   "metadata": {},
   "source": [
    "#### for문을 이용한 list comprehension"
   ]
  },
  {
   "cell_type": "code",
   "execution_count": 107,
   "metadata": {},
   "outputs": [
    {
     "name": "stdout",
     "output_type": "stream",
     "text": [
      "[0, 1, 2, 3, 4, 5, 6, 7, 8, 9, 10, 11, 12, 13, 14, 15, 16, 17, 18, 19]\n"
     ]
    }
   ],
   "source": [
    "comprehension_list = [x for x in range(20)]\n",
    "print(comprehension_list)"
   ]
  },
  {
   "cell_type": "markdown",
   "metadata": {},
   "source": [
    "#### for-if문을 이용한 list comprehension"
   ]
  },
  {
   "cell_type": "code",
   "execution_count": 108,
   "metadata": {},
   "outputs": [
    {
     "name": "stdout",
     "output_type": "stream",
     "text": [
      "[0, 2, 4, 6, 8, 10, 12, 14, 16, 18]\n"
     ]
    }
   ],
   "source": [
    "even_list = [x for x in range(20) if x % 2 == 0]\n",
    "print(even_list)"
   ]
  },
  {
   "cell_type": "markdown",
   "metadata": {},
   "source": [
    "#### for-multiple if문을 이용한 list comprehension"
   ]
  },
  {
   "cell_type": "code",
   "execution_count": 109,
   "metadata": {},
   "outputs": [
    {
     "name": "stdout",
     "output_type": "stream",
     "text": [
      "[0, 6, 12, 18]\n"
     ]
    }
   ],
   "source": [
    "multiple_of_6_list = [x for x in range(20) if x % 2 == 0 if x % 3 == 0]\n",
    "#[x for x in range(20) if x % 6 == 0]\n",
    "#[x for x in range(20) if x % 2 == 0 and x % 3 == 0]\n",
    "print(multiple_of_6_list)"
   ]
  },
  {
   "cell_type": "markdown",
   "metadata": {},
   "source": [
    "#### for-if-else문을 이용한 list comprehension"
   ]
  },
  {
   "cell_type": "code",
   "execution_count": 110,
   "metadata": {},
   "outputs": [
    {
     "name": "stdout",
     "output_type": "stream",
     "text": [
      "[True, False, False, False, False, False, True, False, False, False, False, False, True, False, False, False, False, False, True, False]\n"
     ]
    }
   ],
   "source": [
    "multiple_of_6_list = [True if x % 6 == 0 else False for x in range(20)]\n",
    "print(multiple_of_6_list)"
   ]
  },
  {
   "cell_type": "markdown",
   "metadata": {},
   "source": [
    "### 4-4. 다차원 list 생성 주의"
   ]
  },
  {
   "cell_type": "code",
   "execution_count": 111,
   "metadata": {},
   "outputs": [
    {
     "name": "stdout",
     "output_type": "stream",
     "text": [
      "[[0, 1, 2, 3, 4], [0, 1, 2, 3, 4], [0, 1, 2, 3, 4], [0, 1, 2, 3, 4], [0, 1, 2, 3, 4]]\n",
      "[[0, 1, 2, 3, 4], [0, 1, 2, 3, 4], [0, 1, 2, 3, 4], [0, 1, 2, 3, 4], [0, 1, 2, 3, 4]]\n"
     ]
    }
   ],
   "source": [
    "comprehension_2d_list = [[x for x in range(5)] for _ in range(5)]\n",
    "multiple_2d_list = [[x for x in range(5)]] * 5\n",
    "print(comprehension_2d_list)\n",
    "print(multiple_2d_list)"
   ]
  },
  {
   "cell_type": "code",
   "execution_count": 112,
   "metadata": {},
   "outputs": [
    {
     "name": "stdout",
     "output_type": "stream",
     "text": [
      "[['Zero', 1, 2, 3, 4], [0, 1, 2, 3, 4], [0, 1, 2, 3, 4], [0, 1, 2, 3, 4], [0, 1, 2, 3, 4]]\n",
      "[['Zero', 1, 2, 3, 4], ['Zero', 1, 2, 3, 4], ['Zero', 1, 2, 3, 4], ['Zero', 1, 2, 3, 4], ['Zero', 1, 2, 3, 4]]\n"
     ]
    }
   ],
   "source": [
    "comprehension_2d_list[0][0] = \"Zero\"\n",
    "multiple_2d_list[0][0] = \"Zero\"\n",
    "print(comprehension_2d_list)\n",
    "print(multiple_2d_list)"
   ]
  },
  {
   "cell_type": "markdown",
   "metadata": {},
   "source": [
    "## 5. tuple"
   ]
  },
  {
   "cell_type": "markdown",
   "metadata": {},
   "source": [
    "### tuple 선언"
   ]
  },
  {
   "cell_type": "code",
   "execution_count": 113,
   "metadata": {},
   "outputs": [],
   "source": [
    "using_parenthese_pair = ()\n",
    "using_trailing_comma = \"a\",\n",
    "using_trailing_comma = (\"a\",)\n",
    "using_commas_itmes = \"a\",\"b\",\"c\"\n",
    "using_commas_itmes = (\"a\",\"b\",\"c\")\n",
    "#생성자의 매개변수는 iterable한 자료형이라면 무관함\n",
    "using_constructor = tuple(\"tuple\") #(\"t\",\"u\",\"p\",\"l\",\"e\")"
   ]
  },
  {
   "cell_type": "markdown",
   "metadata": {},
   "source": [
    "### tuple에서 Sequence Type 함수 사용"
   ]
  },
  {
   "cell_type": "code",
   "execution_count": 114,
   "metadata": {},
   "outputs": [],
   "source": [
    "test_tuple = (0, 1, 2, 3, 4, 5, 6, 7, 8, 9)"
   ]
  },
  {
   "cell_type": "code",
   "execution_count": 115,
   "metadata": {},
   "outputs": [
    {
     "name": "stdout",
     "output_type": "stream",
     "text": [
      "Does 4 exit in test_tuple? True\n",
      "Deos 4 not exit in test_tuple? False\n",
      "(0, 1, 2, 3, 4, 5, 6, 7, 8, 9, 0, 1, 2, 3, 4, 5, 6, 7, 8, 9)\n",
      "(0, 1, 2, 3, 4, 5, 6, 7, 8, 9, 0, 1, 2, 3, 4, 5, 6, 7, 8, 9)\n",
      "The length of test_tuple is  10\n",
      "The min value in test_tuple is  0\n",
      "The max value in test_tuple is  9\n",
      "The index of 3 in test_tuple is  3\n",
      "In range of 1 to 5, the index of 3 in range of test_tuple is 3\n",
      "The index of 3 in range of test_tuple[1:5] is 2\n",
      "The count of 3 in test_tuple is  1\n"
     ]
    }
   ],
   "source": [
    "print(\"Does 4 exit in test_tuple?\", 4 in test_tuple)\n",
    "print(\"Deos 4 not exit in test_tuple?\", 4 not in test_tuple)\n",
    "print(test_tuple + test_tuple)\n",
    "print(test_tuple * 2)\n",
    "print(\"The length of test_tuple is \", len(test_tuple))\n",
    "print(\"The min value in test_tuple is \", min(test_tuple))\n",
    "print(\"The max value in test_tuple is \", max(test_tuple))\n",
    "print(\"The index of 3 in test_tuple is \", test_tuple.index(3))\n",
    "print(\"In range of 1 to 5, the index of 3 in range of test_tuple is\", test_tuple.index(3, 1, 5))\n",
    "print(\"The index of 3 in range of test_tuple[1:5] is\", test_tuple[1:5].index(3))\n",
    "print(\"The count of 3 in test_tuple is \", test_tuple.count(3))"
   ]
  },
  {
   "cell_type": "markdown",
   "metadata": {},
   "source": [
    "### tuple slicing & indexing"
   ]
  },
  {
   "cell_type": "code",
   "execution_count": 116,
   "metadata": {},
   "outputs": [
    {
     "name": "stdout",
     "output_type": "stream",
     "text": [
      "test_tuple[4] =  4\n",
      "test_tuple[-4] =  6\n",
      "test_tuple[:4] =  (0, 1, 2, 3)\n",
      "test_tuple[:-4] =  (0, 1, 2, 3, 4, 5)\n",
      "test_tuple[4:] =  (4, 5, 6, 7, 8, 9)\n",
      "test_tuple[-4:] =  (6, 7, 8, 9)\n",
      "test_tuple[2:5] =  (2, 3, 4)\n",
      "test_tuple[::2] =  (0, 2, 4, 6, 8)\n",
      "test_tuple[1::2] =  (1, 3, 5, 7, 9)\n",
      "test_tuple[::-1] =  (9, 8, 7, 6, 5, 4, 3, 2, 1, 0)\n"
     ]
    }
   ],
   "source": [
    "print(\"test_tuple[4] = \", test_tuple[4])\n",
    "print(\"test_tuple[-4] = \", test_tuple[-4])\n",
    "print(\"test_tuple[:4] = \", test_tuple[:4])\n",
    "print(\"test_tuple[:-4] = \", test_tuple[:-4])\n",
    "print(\"test_tuple[4:] = \", test_tuple[4:])\n",
    "print(\"test_tuple[-4:] = \", test_tuple[-4:])\n",
    "print(\"test_tuple[2:5] = \", test_tuple[2:5])\n",
    "print(\"test_tuple[::2] = \", test_tuple[::2])\n",
    "print(\"test_tuple[1::2] = \", test_tuple[1::2])\n",
    "print(\"test_tuple[::-1] = \", test_tuple[::-1])"
   ]
  },
  {
   "cell_type": "markdown",
   "metadata": {},
   "source": [
    "### tuple 내부의 값 변경 불가능"
   ]
  },
  {
   "cell_type": "code",
   "execution_count": 117,
   "metadata": {},
   "outputs": [
    {
     "ename": "TypeError",
     "evalue": "'tuple' object does not support item assignment",
     "output_type": "error",
     "traceback": [
      "\u001b[1;31m---------------------------------------------------------------------------\u001b[0m",
      "\u001b[1;31mTypeError\u001b[0m                                 Traceback (most recent call last)",
      "Cell \u001b[1;32mIn[117], line 2\u001b[0m\n\u001b[0;32m      1\u001b[0m test_tuple \u001b[38;5;241m=\u001b[39m (\u001b[38;5;241m0\u001b[39m, \u001b[38;5;241m1\u001b[39m, \u001b[38;5;241m2\u001b[39m, \u001b[38;5;241m3\u001b[39m, \u001b[38;5;241m4\u001b[39m, \u001b[38;5;241m5\u001b[39m, \u001b[38;5;241m6\u001b[39m, \u001b[38;5;241m7\u001b[39m, \u001b[38;5;241m8\u001b[39m, \u001b[38;5;241m9\u001b[39m)\n\u001b[1;32m----> 2\u001b[0m \u001b[43mtest_tuple\u001b[49m\u001b[43m[\u001b[49m\u001b[38;5;241;43m3\u001b[39;49m\u001b[43m]\u001b[49m \u001b[38;5;241m=\u001b[39m \u001b[38;5;124m\"\u001b[39m\u001b[38;5;124mthree\u001b[39m\u001b[38;5;124m\"\u001b[39m\n",
      "\u001b[1;31mTypeError\u001b[0m: 'tuple' object does not support item assignment"
     ]
    }
   ],
   "source": [
    "test_tuple = (0, 1, 2, 3, 4, 5, 6, 7, 8, 9)\n",
    "test_tuple[3] = \"three\""
   ]
  },
  {
   "cell_type": "markdown",
   "metadata": {},
   "source": [
    "## 6. range"
   ]
  },
  {
   "cell_type": "markdown",
   "metadata": {},
   "source": [
    "### parameter를 통한 range 활용"
   ]
  },
  {
   "cell_type": "code",
   "execution_count": 118,
   "metadata": {},
   "outputs": [
    {
     "name": "stdout",
     "output_type": "stream",
     "text": [
      "[0, 1, 2, 3, 4, 5, 6, 7, 8, 9]\n",
      "[1, 2, 3, 4, 5, 6, 7, 8, 9]\n",
      "[1, 3, 5, 7, 9]\n",
      "[10, 9, 8, 7, 6, 5, 4, 3, 2]\n",
      "[10, 8, 6, 4, 2]\n"
     ]
    }
   ],
   "source": [
    "print(list(range(10)))\n",
    "print(list(range(1, 10)))\n",
    "print(list(range(1, 10, 2)))\n",
    "print(list(range(10, 1, -1)))\n",
    "print(list(range(10, 1, -2)))"
   ]
  },
  {
   "cell_type": "markdown",
   "metadata": {},
   "source": [
    "### range에서 Sequence Type 함수 사용"
   ]
  },
  {
   "cell_type": "code",
   "execution_count": 119,
   "metadata": {},
   "outputs": [],
   "source": [
    "test_range = range(10)"
   ]
  },
  {
   "cell_type": "code",
   "execution_count": 120,
   "metadata": {},
   "outputs": [
    {
     "name": "stdout",
     "output_type": "stream",
     "text": [
      "Does 4 exit in test_range? True\n",
      "Deos 4 not exit in test_range? False\n",
      "The length of test_range is  10\n",
      "The min value in test_range is  0\n",
      "The max value in test_range is  9\n",
      "The index of 3 in test_range is  3\n",
      "The index of 3 in range of test_range[1:5] is 2\n",
      "The count of 3 in test_range is  1\n"
     ]
    }
   ],
   "source": [
    "print(\"Does 4 exit in test_range?\", 4 in test_range)\n",
    "print(\"Deos 4 not exit in test_range?\", 4 not in test_range)\n",
    "#print(test_range + test_range)\n",
    "#print(test_range * 2)\n",
    "print(\"The length of test_range is \", len(test_range))\n",
    "print(\"The min value in test_range is \", min(test_range))\n",
    "print(\"The max value in test_range is \", max(test_range))\n",
    "print(\"The index of 3 in test_range is \", test_range.index(3))\n",
    "#print(\"In range of 1 to 5, the index of 3 in range of test_range is\", test_range.index(3, 1, 5))\n",
    "print(\"The index of 3 in range of test_range[1:5] is\", test_range[1:5].index(3))\n",
    "print(\"The count of 3 in test_range is \", test_range.count(3))"
   ]
  },
  {
   "cell_type": "markdown",
   "metadata": {},
   "source": [
    "### range slicing & indexing"
   ]
  },
  {
   "cell_type": "code",
   "execution_count": 121,
   "metadata": {},
   "outputs": [
    {
     "name": "stdout",
     "output_type": "stream",
     "text": [
      "test_list[4] =  4\n",
      "test_list-[4] =  6\n",
      "test_list[:4] =  range(0, 4)\n",
      "test_list[:-4] =  range(0, 6)\n",
      "test_list[4:] =  range(4, 10)\n",
      "test_list[-4:] =  range(6, 10)\n",
      "test_list[2:5] =  range(2, 5)\n",
      "test_list[::2] =  range(0, 10, 2)\n",
      "test_list[1::2] =  range(1, 10, 2)\n",
      "test_list[::-1] =  range(9, -1, -1)\n"
     ]
    }
   ],
   "source": [
    "print(\"test_list[4] = \", test_range[4])\n",
    "print(\"test_list-[4] = \", test_range[-4])\n",
    "print(\"test_list[:4] = \", test_range[:4])\n",
    "print(\"test_list[:-4] = \", test_range[:-4])\n",
    "print(\"test_list[4:] = \", test_range[4:])\n",
    "print(\"test_list[-4:] = \", test_range[-4:])\n",
    "print(\"test_list[2:5] = \", test_range[2:5])\n",
    "print(\"test_list[::2] = \", test_range[::2])\n",
    "print(\"test_list[1::2] = \", test_range[1::2])\n",
    "print(\"test_list[::-1] = \", test_range[::-1])"
   ]
  },
  {
   "cell_type": "markdown",
   "metadata": {},
   "source": [
    "## 7. string"
   ]
  },
  {
   "cell_type": "markdown",
   "metadata": {},
   "source": [
    "### string 선언"
   ]
  },
  {
   "cell_type": "code",
   "execution_count": 122,
   "metadata": {},
   "outputs": [],
   "source": [
    "single_quote = 'This allows \"double quote\".'\n",
    "double_quote = \"This allows 'single quote'.\"\n",
    "triple_single_quote = '''Triple single quote'''\n",
    "triple_double_quote = \"\"\"Triple doulbe quote\"\"\""
   ]
  },
  {
   "cell_type": "markdown",
   "metadata": {},
   "source": [
    "### string에서 Sequence Type 함수 사용"
   ]
  },
  {
   "cell_type": "code",
   "execution_count": 123,
   "metadata": {},
   "outputs": [],
   "source": [
    "test_string = \"0123456789\""
   ]
  },
  {
   "cell_type": "code",
   "execution_count": 124,
   "metadata": {},
   "outputs": [
    {
     "name": "stdout",
     "output_type": "stream",
     "text": [
      "Does 4 exit in test_string? True\n",
      "Deos 4 not exit in test_string? False\n",
      "01234567890123456789\n",
      "01234567890123456789\n",
      "The length of test_string is  10\n",
      "The min value in test_string is  0\n",
      "The max value in test_string is  9\n",
      "The index of 3 in test_string is  3\n",
      "In range of 1 to 5, the index of 3 in range of test_string is 3\n",
      "The index of 3 in range of test_string[1:5] is 2\n",
      "The count of 3 in test_string is  1\n"
     ]
    }
   ],
   "source": [
    "print(\"Does 4 exit in test_string?\", \"4\" in test_string)\n",
    "print(\"Deos 4 not exit in test_string?\", \"4\" not in test_string)\n",
    "print(test_string + test_string)\n",
    "print(test_string * 2)\n",
    "print(\"The length of test_string is \", len(test_string))\n",
    "print(\"The min value in test_string is \", min(test_string))\n",
    "print(\"The max value in test_string is \", max(test_string))\n",
    "print(\"The index of 3 in test_string is \", test_string.index(\"3\"))\n",
    "print(\"In range of 1 to 5, the index of 3 in range of test_string is\", test_string.index(\"3\", 1, 5))\n",
    "print(\"The index of 3 in range of test_string[1:5] is\", test_string[1:5].index(\"3\"))\n",
    "print(\"The count of 3 in test_string is \", test_string.count(\"3\"))"
   ]
  },
  {
   "cell_type": "markdown",
   "metadata": {},
   "source": [
    "### string indexing & slicing"
   ]
  },
  {
   "cell_type": "code",
   "execution_count": 125,
   "metadata": {},
   "outputs": [
    {
     "name": "stdout",
     "output_type": "stream",
     "text": [
      "test_string[4] =  4\n",
      "test_string[-4] =  6\n",
      "test_string[:4] =  0123\n",
      "test_string[:-4] =  012345\n",
      "test_string[4:] =  456789\n",
      "test_string[-4:] =  6789\n",
      "test_string[2:5] =  234\n",
      "test_string[::2] =  02468\n",
      "test_string[1::2] =  13579\n",
      "test_string[::-1] =  9876543210\n"
     ]
    }
   ],
   "source": [
    "print(\"test_string[4] = \", test_string[4])\n",
    "print(\"test_string[-4] = \", test_string[-4])\n",
    "print(\"test_string[:4] = \", test_string[:4])\n",
    "print(\"test_string[:-4] = \", test_string[:-4])\n",
    "print(\"test_string[4:] = \", test_string[4:])\n",
    "print(\"test_string[-4:] = \", test_string[-4:])\n",
    "print(\"test_string[2:5] = \", test_string[2:5])\n",
    "print(\"test_string[::2] = \", test_string[::2])\n",
    "print(\"test_string[1::2] = \", test_string[1::2])\n",
    "print(\"test_string[::-1] = \", test_string[::-1])"
   ]
  },
  {
   "cell_type": "markdown",
   "metadata": {},
   "source": [
    "### string 함수"
   ]
  },
  {
   "cell_type": "code",
   "execution_count": 130,
   "metadata": {},
   "outputs": [],
   "source": [
    "test_string = \"i have a pen.\\ti have an apple.\""
   ]
  },
  {
   "cell_type": "code",
   "execution_count": 161,
   "metadata": {},
   "outputs": [
    {
     "name": "stdout",
     "output_type": "stream",
     "text": [
      "I have a pen.\ti have an apple.\n",
      "i have a pen.\ti have an apple.\n",
      "i have a pen.\ti have an apple.\n",
      "5\n",
      "True\n",
      "i have a pen.   i have an apple.\n",
      "3\n",
      "I have a pen. I have an apple. i have a pen.\ti have an apple.\n",
      "3\n",
      "False False True False False False True False False False False False\n",
      "i. .h.a.v.e. .a. .p.e.n...\t.i. .h.a.v.e. .a.n. .a.p.p.l.e..\n",
      "i have a pen.\ti have an apple.----------\n",
      "i have a pen.\ti have an apple.\n",
      "pen.\ti have an apple.\n",
      "('i have a ', 'pen.', '\\ti have an apple.')\n",
      " a pen.\ti have an apple.\n",
      "i have a pen.\ti have an \n",
      "i have a pineapple.\ti have an apple.\n",
      "24\n",
      "24\n",
      "----------i have a pen.\ti have an apple.\n",
      "('i have a ', 'pen.', '\\ti have an apple.')\n",
      "['i', 'have', 'a', 'pen.\\ti', 'have', 'an', 'apple.']\n",
      "i have a pen.\ti hav\n",
      "['i have a pen.', 'i have an apple.']\n",
      "['i have a pen.\\ti have an apple.']\n",
      "True\n",
      "pen.\ti have an apple.\n",
      "I HAVE A PEN.\tI HAVE AN APPLE.\n",
      "I Have A Pen.\tI Have An Apple.\n",
      "I have a pen.\tI have an apple.\n",
      "I HAVE A PEN.\tI HAVE AN APPLE.\n",
      "0000000000i have a pen.\ti have an apple.\n"
     ]
    }
   ],
   "source": [
    "print(test_string.capitalize())\n",
    "print(test_string.casefold())\n",
    "print(test_string.center(20, \"-\"))\n",
    "print(test_string.count(\"a\"))\n",
    "print(test_string.endswith(\"apple.\"))\n",
    "print(test_string.expandtabs(4))\n",
    "print(test_string.find(\"a\"))\n",
    "print(\"I have a pen. I have an apple. {}\".format(test_string))\n",
    "print(test_string.index(\"a\"))\n",
    "print(test_string.isalnum(), test_string.isalpha(), test_string.isascii(), test_string.isdecimal(), test_string.isdigit(),\n",
    "      test_string.isidentifier(), test_string.islower(), test_string.isnumeric(), test_string.isprintable(), test_string.isspace(),\n",
    "      test_string.istitle(), test_string.isupper())\n",
    "print(\".\".join(test_string))\n",
    "print(test_string.ljust(40, \"-\"))\n",
    "print(test_string.lower())\n",
    "print(test_string.lstrip(\"i have\"))\n",
    "print(test_string.partition(\"pen.\"))\n",
    "print(test_string.removeprefix(\"i have\"))\n",
    "print(test_string.removesuffix(\"apple.\"))\n",
    "print(test_string.replace(\"pen.\", \"pineapple.\"))\n",
    "print(test_string.rfind(\"a\"))\n",
    "print(test_string.rindex(\"a\"))\n",
    "print(test_string.rjust(40, \"-\"))\n",
    "print(test_string.rpartition(\"pen.\"))\n",
    "print(test_string.rsplit(\" \"))\n",
    "print(test_string.rstrip(\".elppa n\"))\n",
    "print(test_string.split(\"\\t\"))\n",
    "print(test_string.splitlines())\n",
    "print(test_string.startswith(\"i have\"))\n",
    "print(test_string.strip(\"i have\"))\n",
    "print(test_string.swapcase())\n",
    "print(test_string.title())\n",
    "print(test_string.translate(str.maketrans(\"i\", \"I\")))\n",
    "print(test_string.upper())\n",
    "print(test_string.zfill(40))"
   ]
  },
  {
   "cell_type": "markdown",
   "metadata": {},
   "source": [
    "## 8. Set Type"
   ]
  },
  {
   "cell_type": "markdown",
   "metadata": {},
   "source": [
    "### set 선언"
   ]
  },
  {
   "cell_type": "code",
   "execution_count": 162,
   "metadata": {},
   "outputs": [],
   "source": [
    "prime_set = {2,3,5,7,11}\n",
    "#frozenset의 인자로는 iterable한 자료가 올 수 있음\n",
    "prime_frozen_set = frozenset({2,3,5,7,11})\n",
    "even_set_with_comprehension = {i for i in range(20) if i%2 == 0}\n",
    "#빈 set는 {}로 선언할 수 없음\n",
    "#{}로 선언하면 빈 dictionary로 인식\n",
    "empty_set = set()"
   ]
  },
  {
   "cell_type": "markdown",
   "metadata": {},
   "source": [
    "### set 함수"
   ]
  },
  {
   "cell_type": "code",
   "execution_count": 184,
   "metadata": {},
   "outputs": [],
   "source": [
    "test_set = {0, 1, 2, 3, 4, 5, 6, 7, 8, 9}"
   ]
  },
  {
   "cell_type": "code",
   "execution_count": 185,
   "metadata": {},
   "outputs": [
    {
     "name": "stdout",
     "output_type": "stream",
     "text": [
      "10\n",
      "True\n",
      "False\n",
      "True\n",
      "True\n",
      "False\n",
      "{0, 1, 2, 3, 4, 5, 6, 7, 8, 9, 10, 11, 12}\n",
      "{8, 9, 7}\n",
      "{0, 1, 2, 3, 4, 5, 6, 7, 8, 9}\n",
      "{0, 1, 2, 3, 4, 5, 6, 7, 8, 10, 11, 12}\n",
      "{0, 1, 2, 3, 4, 5, 6, 7, 8, 9, 10, 11, 12}\n",
      "{7, 8, 9, 10, 11, 12}\n",
      "{7, 8, 9}\n",
      "{7, 8, 11, 10, 12}\n",
      "{7, 8, 11, 10, 12}\n",
      "{7, 8, 11, 12}\n",
      "{7, 8, 11, 12}\n",
      "{8, 11, 12}\n",
      "set()\n"
     ]
    }
   ],
   "source": [
    "print(len(test_set))\n",
    "print(4 in test_set)\n",
    "print(4 not in test_set)\n",
    "print(test_set.isdisjoint({10, 11, 12}))\n",
    "print(test_set.issubset({0, 1, 2, 3, 4, 5, 6, 7, 8, 9, 10}))\n",
    "print(test_set.issuperset({0, 1, 2, 3, 4, 5, 6, 7, 8, 9, 10}))\n",
    "print(test_set.union({10, 11, 12}))\n",
    "print(test_set.intersection({7, 8, 9, 10, 11, 12}))\n",
    "print(test_set.difference({10, 11, 12}))\n",
    "print(test_set.symmetric_difference({9, 10, 11, 12}))\n",
    "test_set.update({10, 11, 12})\n",
    "print(test_set)\n",
    "test_set.intersection_update({7, 8, 9, 10, 11, 12})\n",
    "print(test_set)\n",
    "test_set.difference_update({10, 11, 12})\n",
    "print(test_set)\n",
    "test_set.symmetric_difference_update({9, 10, 11, 12})\n",
    "print(test_set)\n",
    "test_set.add(11)\n",
    "print(test_set)\n",
    "test_set.remove(10)\n",
    "print(test_set)\n",
    "test_set.discard(9)\n",
    "print(test_set)\n",
    "test_set.pop()\n",
    "print(test_set)\n",
    "test_set.clear()\n",
    "print(test_set)"
   ]
  },
  {
   "cell_type": "markdown",
   "metadata": {},
   "source": [
    "## 9. dictionary"
   ]
  },
  {
   "cell_type": "markdown",
   "metadata": {},
   "source": [
    "### dictionary 선언"
   ]
  },
  {
   "cell_type": "code",
   "execution_count": 186,
   "metadata": {},
   "outputs": [],
   "source": [
    "key_value_pair_braces = {\"Korea\":\"Seoul\", \"USA\":\"Washington D.C.\", \"Japan\":\"Tokyo\", \"China\":\"Beijing\"}\n",
    "dict_comprehension = {x: x**2 for x in range(15)}\n",
    "dict_constructor_1 = dict([(\"Korea\", \"Seoul\"), (\"USA\", \"Washington D.C.\"), (\"Japan\", \"Tokyo\"), (\"China\", \"Beijing\")])\n",
    "dict_constructor_2 = dict(Korea=\"seoul\", USA=\"Washington D.C.\", Japan=\"Tokyo\", China=\"Beijing\")"
   ]
  },
  {
   "cell_type": "markdown",
   "metadata": {},
   "source": [
    "### dictionary 함수"
   ]
  },
  {
   "cell_type": "code",
   "execution_count": 187,
   "metadata": {},
   "outputs": [],
   "source": [
    "test_dict = {\n",
    "    \"Korea\": \"Seoul\",\n",
    "    \"USA\": \"Washington D.C.\",\n",
    "    \"Japan\": \"Tokyo\",\n",
    "    \"China\": \"Beijing\",\n",
    "    \"Germany\": \"Berlin\",\n",
    "    \"France\": \"Paris\",\n",
    "    \"Italy\": \"Rome\",\n",
    "    \"Brazil\": \"Brasilia\",\n",
    "    \"India\": \"New Delhi\",\n",
    "    \"Australia\": \"Canberra\"\n",
    "}"
   ]
  },
  {
   "cell_type": "code",
   "execution_count": 189,
   "metadata": {},
   "outputs": [
    {
     "name": "stdout",
     "output_type": "stream",
     "text": [
      "['Korea', 'USA', 'Japan', 'China', 'Germany', 'France', 'Italy', 'Brazil', 'India', 'Australia']\n",
      "10\n",
      "Seoul\n",
      "{'Korea': 'Busan', 'USA': 'Washington D.C.', 'Japan': 'Tokyo', 'China': 'Beijing', 'Germany': 'Berlin', 'France': 'Paris', 'Italy': 'Rome', 'Brazil': 'Brasilia', 'India': 'New Delhi', 'Australia': 'Canberra'}\n",
      "{'USA': 'Washington D.C.', 'Japan': 'Tokyo', 'China': 'Beijing', 'Germany': 'Berlin', 'France': 'Paris', 'Italy': 'Rome', 'Brazil': 'Brasilia', 'India': 'New Delhi', 'Australia': 'Canberra'}\n",
      "False\n",
      "True\n",
      "Given is not in test_dict.\n",
      "dict_items([('USA', 'Washington D.C.'), ('Japan', 'Tokyo'), ('China', 'Beijing'), ('Germany', 'Berlin'), ('France', 'Paris'), ('Italy', 'Rome'), ('Brazil', 'Brasilia'), ('India', 'New Delhi'), ('Australia', 'Canberra')])\n",
      "dict_keys(['USA', 'Japan', 'China', 'Germany', 'France', 'Italy', 'Brazil', 'India', 'Australia'])\n",
      "New Delhi\n",
      "dict_values(['Washington D.C.', 'Tokyo', 'Beijing', 'Berlin', 'Paris', 'Rome', 'Brasilia', 'Canberra'])\n"
     ]
    }
   ],
   "source": [
    "print(list(test_dict))\n",
    "print(len(test_dict))\n",
    "print(test_dict[\"Korea\"])\n",
    "test_dict[\"Korea\"] = \"Busan\"\n",
    "print(test_dict)\n",
    "del test_dict[\"Korea\"]\n",
    "print(test_dict)\n",
    "print(\"Korea\" in test_dict)\n",
    "print(\"Korea\" not in test_dict)\n",
    "print(test_dict.get(\"Korea\", \"Given is not in test_dict.\"))\n",
    "print(test_dict.items())\n",
    "print(test_dict.keys())\n",
    "print(test_dict.pop(\"India\"))\n",
    "print(test_dict.values())"
   ]
  },
  {
   "cell_type": "markdown",
   "metadata": {},
   "source": [
    "### dictview 함수"
   ]
  },
  {
   "cell_type": "code",
   "execution_count": 190,
   "metadata": {},
   "outputs": [
    {
     "name": "stdout",
     "output_type": "stream",
     "text": [
      "8\n",
      "False\n"
     ]
    }
   ],
   "source": [
    "test_dictview = test_dict.keys()\n",
    "print(len(test_dictview))\n",
    "print(\"Korea\" in test_dictview)"
   ]
  }
 ],
 "metadata": {
  "kernelspec": {
   "display_name": "Python 3",
   "language": "python",
   "name": "python3"
  },
  "language_info": {
   "codemirror_mode": {
    "name": "ipython",
    "version": 3
   },
   "file_extension": ".py",
   "mimetype": "text/x-python",
   "name": "python",
   "nbconvert_exporter": "python",
   "pygments_lexer": "ipython3",
   "version": "3.10.0"
  }
 },
 "nbformat": 4,
 "nbformat_minor": 2
}
