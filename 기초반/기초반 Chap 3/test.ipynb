{
 "cells": [
  {
   "cell_type": "markdown",
   "metadata": {},
   "source": [
    "# 기초반 3차시 Test"
   ]
  },
  {
   "cell_type": "markdown",
   "metadata": {},
   "source": [
    "## [보기]\n",
    "\n",
    "소수는 1과 자기자신을 약수로 가지는 수로 정의한다. 에라토스테네스의 체는 소수를 판별하는 가장 고전적인 방법이자 단순한 방법이다.  \n",
    "<img src=\"https://ezmath.readthedocs.io/en/latest/_images/erathos5.png\" width=\"480\"/>  \n",
    "에라토스테네스의 체는 아래와 같은 순서의 알고리즘을 가진다.  \n",
    "- 1. 탐색하려는 수를 1부터 n까지 모두 작성한다.\n",
    "- 2. 1은 소수가 아닌 자연수이므로 제외한다.\n",
    "- 3. 2는 소수이므로 남긴다.\n",
    "  - 3-1. 3에 의해 2의 배수들은 모두 2를 약수로 가지므로 모두 제외한다.\n",
    "- 4. 3과 3-1의 규칙에 따라 3, 4, 5, 6...의 수들도 소수가 아닌 수들을 제외한다.\n",
    "- 5. n까지 도달하면 소수인 수만 남게 된다."
   ]
  },
  {
   "cell_type": "markdown",
   "metadata": {},
   "source": [
    "## 문제"
   ]
  },
  {
   "cell_type": "code",
   "execution_count": 1,
   "metadata": {},
   "outputs": [],
   "source": [
    "arr = list(range(1, 10001))"
   ]
  },
  {
   "cell_type": "markdown",
   "metadata": {},
   "source": [
    "### 1. arr의 요소를 for문을 이용해 한 줄로 출력하시오. 각 요소는 띄어쓰기로 구분하시오."
   ]
  },
  {
   "cell_type": "code",
   "execution_count": null,
   "metadata": {},
   "outputs": [],
   "source": []
  },
  {
   "cell_type": "markdown",
   "metadata": {},
   "source": [
    "### 2. arr의 요소 중에서 1과 짝수를 제외한 요소를 출력하시오."
   ]
  },
  {
   "cell_type": "code",
   "execution_count": null,
   "metadata": {},
   "outputs": [],
   "source": []
  },
  {
   "cell_type": "markdown",
   "metadata": {},
   "source": [
    "### 3. 이중 for문을 통해 j가 i보다 작은 동안 j를 i로 나눈 몫들의 합을 출력하시오."
   ]
  },
  {
   "cell_type": "code",
   "execution_count": null,
   "metadata": {},
   "outputs": [],
   "source": []
  },
  {
   "cell_type": "markdown",
   "metadata": {},
   "source": [
    "### 4. 위를 참고하여 에라토스테네스의 체로 1에서 10000 사이의 소수는 몇 개인지 구하시오."
   ]
  },
  {
   "cell_type": "code",
   "execution_count": null,
   "metadata": {},
   "outputs": [],
   "source": []
  }
 ],
 "metadata": {
  "kernelspec": {
   "display_name": "Python 3",
   "language": "python",
   "name": "python3"
  },
  "language_info": {
   "codemirror_mode": {
    "name": "ipython",
    "version": 3
   },
   "file_extension": ".py",
   "mimetype": "text/x-python",
   "name": "python",
   "nbconvert_exporter": "python",
   "pygments_lexer": "ipython3",
   "version": "3.10.0"
  }
 },
 "nbformat": 4,
 "nbformat_minor": 2
}
